{
 "cells": [
  {
   "cell_type": "code",
   "execution_count": 6,
   "id": "3fa88b30-921b-4da6-9beb-0ab25e7fa47a",
   "metadata": {},
   "outputs": [],
   "source": [
    "import soundfile as sf\n",
    "from transformers import WhisperFeatureExtractor,AutoTokenizer\n",
    "from transformers import WhisperTokenizer\n",
    "from transformers import WhisperProcessor\n",
    "import torch\n",
    "device = \"cuda\" if torch.cuda.is_available() else \"CPU\""
   ]
  },
  {
   "cell_type": "code",
   "execution_count": 9,
   "id": "e2042c4e-c8f9-4cf9-aea8-43e0db70154b",
   "metadata": {},
   "outputs": [
    {
     "data": {
      "application/vnd.jupyter.widget-view+json": {
       "model_id": "519b1c51b1964a6395f5872214ca3d07",
       "version_major": 2,
       "version_minor": 0
      },
      "text/plain": [
       "Loading checkpoint shards:   0%|          | 0/2 [00:00<?, ?it/s]"
      ]
     },
     "metadata": {},
     "output_type": "display_data"
    },
    {
     "data": {
      "text/plain": [
       "WhisperForConditionalGeneration(\n",
       "  (model): WhisperModel(\n",
       "    (encoder): WhisperEncoder(\n",
       "      (conv1): Conv1d(128, 1280, kernel_size=(3,), stride=(1,), padding=(1,))\n",
       "      (conv2): Conv1d(1280, 1280, kernel_size=(3,), stride=(2,), padding=(1,))\n",
       "      (embed_positions): Embedding(1500, 1280)\n",
       "      (layers): ModuleList(\n",
       "        (0-31): 32 x WhisperEncoderLayer(\n",
       "          (self_attn): WhisperSdpaAttention(\n",
       "            (k_proj): Linear(in_features=1280, out_features=1280, bias=False)\n",
       "            (v_proj): Linear(in_features=1280, out_features=1280, bias=True)\n",
       "            (q_proj): Linear(in_features=1280, out_features=1280, bias=True)\n",
       "            (out_proj): Linear(in_features=1280, out_features=1280, bias=True)\n",
       "          )\n",
       "          (self_attn_layer_norm): LayerNorm((1280,), eps=1e-05, elementwise_affine=True)\n",
       "          (activation_fn): GELUActivation()\n",
       "          (fc1): Linear(in_features=1280, out_features=5120, bias=True)\n",
       "          (fc2): Linear(in_features=5120, out_features=1280, bias=True)\n",
       "          (final_layer_norm): LayerNorm((1280,), eps=1e-05, elementwise_affine=True)\n",
       "        )\n",
       "      )\n",
       "      (layer_norm): LayerNorm((1280,), eps=1e-05, elementwise_affine=True)\n",
       "    )\n",
       "    (decoder): WhisperDecoder(\n",
       "      (embed_tokens): Embedding(51866, 1280, padding_idx=50256)\n",
       "      (embed_positions): WhisperPositionalEmbedding(448, 1280)\n",
       "      (layers): ModuleList(\n",
       "        (0-31): 32 x WhisperDecoderLayer(\n",
       "          (self_attn): WhisperSdpaAttention(\n",
       "            (k_proj): Linear(in_features=1280, out_features=1280, bias=False)\n",
       "            (v_proj): Linear(in_features=1280, out_features=1280, bias=True)\n",
       "            (q_proj): Linear(in_features=1280, out_features=1280, bias=True)\n",
       "            (out_proj): Linear(in_features=1280, out_features=1280, bias=True)\n",
       "          )\n",
       "          (activation_fn): GELUActivation()\n",
       "          (self_attn_layer_norm): LayerNorm((1280,), eps=1e-05, elementwise_affine=True)\n",
       "          (encoder_attn): WhisperSdpaAttention(\n",
       "            (k_proj): Linear(in_features=1280, out_features=1280, bias=False)\n",
       "            (v_proj): Linear(in_features=1280, out_features=1280, bias=True)\n",
       "            (q_proj): Linear(in_features=1280, out_features=1280, bias=True)\n",
       "            (out_proj): Linear(in_features=1280, out_features=1280, bias=True)\n",
       "          )\n",
       "          (encoder_attn_layer_norm): LayerNorm((1280,), eps=1e-05, elementwise_affine=True)\n",
       "          (fc1): Linear(in_features=1280, out_features=5120, bias=True)\n",
       "          (fc2): Linear(in_features=5120, out_features=1280, bias=True)\n",
       "          (final_layer_norm): LayerNorm((1280,), eps=1e-05, elementwise_affine=True)\n",
       "        )\n",
       "      )\n",
       "      (layer_norm): LayerNorm((1280,), eps=1e-05, elementwise_affine=True)\n",
       "    )\n",
       "  )\n",
       "  (proj_out): Linear(in_features=1280, out_features=51866, bias=False)\n",
       ")"
      ]
     },
     "execution_count": 9,
     "metadata": {},
     "output_type": "execute_result"
    }
   ],
   "source": [
    "from transformers import WhisperForConditionalGeneration\n",
    "my_feature_extractor = WhisperFeatureExtractor.from_pretrained(f\"output/whisper-large-v3-ar_v1\")\n",
    "my_tokenizer = WhisperTokenizer.from_pretrained(f\"output/whisper-large-v3-ar_v1\", language=\"arabic\", task=\"transcribe\")\n",
    "my_processor = WhisperProcessor.from_pretrained(f\"output/whisper-large-v3-ar_v1\", language=\"arabic\", task=\"transcribe\")\n",
    "my_model = WhisperForConditionalGeneration.from_pretrained(f\"output/whisper-large-v3-ar_v1/checkpoint-39000\")\n",
    "my_model = my_model.to(device)"
   ]
  },
  {
   "cell_type": "code",
   "execution_count": 10,
   "id": "bc0097f3-9508-4e83-8140-182338e938b3",
   "metadata": {},
   "outputs": [],
   "source": [
    "import librosa\n",
    "def split_audio(audio_path, chunk_duration=30):\n",
    "    audio, sr = librosa.load(audio_path, sr=16000)\n",
    "    chunks = []\n",
    "    for i in range(0, len(audio), chunk_duration * sr):\n",
    "        chunks.append(audio[i:i + chunk_duration * sr])\n",
    "    return chunks"
   ]
  },
  {
   "cell_type": "code",
   "execution_count": 29,
   "id": "f709b803-ada2-49f4-abd5-91897996ae8e",
   "metadata": {},
   "outputs": [],
   "source": [
    "chunks = split_audio(\"test samples/AUDIO-2024-12-10-22-16-08.wav\", chunk_duration=30)"
   ]
  },
  {
   "cell_type": "code",
   "execution_count": 30,
   "id": "7dd92698-ae93-41da-bb5a-971e620d05f7",
   "metadata": {},
   "outputs": [],
   "source": [
    "input_features = my_feature_extractor(chunks, sampling_rate=my_feature_extractor.sampling_rate).input_features\n",
    "input_features = {\"input_features\": input_features}\n",
    "input_features = my_processor.feature_extractor.pad(input_features, return_tensors=\"pt\")\n",
    "input_features = input_features.to(device)"
   ]
  },
  {
   "cell_type": "code",
   "execution_count": 31,
   "id": "8a4cf696-be2f-483c-a49e-3fb5fcc4b0e4",
   "metadata": {},
   "outputs": [],
   "source": [
    "my_model.eval()\n",
    "my_model.generation_config.language = \"arabic\"\n",
    "my_model.generation_config.task = \"transcribe\"\n",
    "my_model.generation_config.forced_decoder_ids = None"
   ]
  },
  {
   "cell_type": "code",
   "execution_count": 32,
   "id": "fdab7295-75fd-4ba5-95ab-f668ba08fe3e",
   "metadata": {},
   "outputs": [
    {
     "data": {
      "text/plain": [
       "6"
      ]
     },
     "execution_count": 32,
     "metadata": {},
     "output_type": "execute_result"
    }
   ],
   "source": [
    "len(chunks)"
   ]
  },
  {
   "cell_type": "code",
   "execution_count": 33,
   "id": "1c0acee8-0279-4e43-a5c0-dfabc70030f6",
   "metadata": {},
   "outputs": [
    {
     "name": "stdout",
     "output_type": "stream",
     "text": [
      "Execution Time: 41.396215 seconds\n"
     ]
    }
   ],
   "source": [
    "import time\n",
    "start_time = time.time()\n",
    "my_pred = my_model.generate(input_features['input_features'],)\n",
    "end_time = time.time()\n",
    "execution_time = end_time - start_time\n",
    "print(f\"Execution Time: {execution_time:.6f} seconds\")"
   ]
  },
  {
   "cell_type": "code",
   "execution_count": 34,
   "id": "a3171cfe-c8e2-43fb-a975-d4e059a63928",
   "metadata": {},
   "outputs": [],
   "source": [
    "my_transcription = my_processor.batch_decode(my_pred.view(1,-1), skip_special_tokens=True,)"
   ]
  },
  {
   "cell_type": "code",
   "execution_count": 38,
   "id": "d1582a7b-50b8-4f25-a7b6-4026cad54878",
   "metadata": {},
   "outputs": [],
   "source": [
    "ground_truth = \"شكرا لاتصالكم بمفروشات الرقيب معاك خالد كيف أقدر أخدمك؟ ألو هلا وغلا كيف أقدر أساعدك اليوم؟ لو سمحت أقدر أكنت أنا دحين اشتريت حاجات و أقدر أرجعها ولا لأ؟ اذا ما استلمت الحاجات تقدر تلغي الطلب خلال سبعة أيام من تاريخ الشراء وتسترجع المبلغ كامل، أما إذا استلمتها تقدر تستبدلها خلال أربعطعش يوم من تاريخ الشراء بشرط تكون غير مستخدمة وبحالتها الأصلية، إذا تحتاج مساعدة إضافية خبرني طيب آآ أنا لسه ما استلمتها يعني في آآ كنبة اشتريتها أبى أبدلها في كومودينات ينفع ولا لأ؟إذا لسه ما استلمت الكنبة تقدر تلغي الطلب وتسترجع المبلغ كامل أو تستبدلها بالكوميدينات إللي تبيها تواصل مع خدمة العملاء عشان يرتبون لك العملية تحتاج رقم التواصل إيوة الله يسعدك يا ريت الله يسعدك تفضل الرقم تسعة إثنين صفر صفر صفر إثنين خمسة أربعة صفرالفريق هناك راح يساعدك في ترتيب عملية التبديل أي خدمة ثانية طب أنا الحين متصلة على نفس هذا الرقم اللي ديتني هو صحيح هذا هو نفس الرقم اللي تتواصلين عليه حاليا إذا عندك أي استفسار أو تحتاجين مساعدة إضافية أنا هنا لخدمتك تقدر تحولني خدمة العملاء عشان أتكلم معاهمأعتذر منك ما أقدر أحول المكالمة مباشرة لكن تواصلي معهم بنفس الرقم في أوقات العمل وإن شاء الله راح يساعدونك بكل اللي تحتاجينه إذا في أي شيء ثاني أقدر متى أوقات العمل لو سمحت أوقات العمل لقسم خدمة العملاء من السبت إلى الخميس من الساعة تسعة صباحا إلى الساعة الحادية عشر مساء ويوم الجمعة من الساعة أربعة عصرا إلى\""
   ]
  },
  {
   "cell_type": "code",
   "execution_count": 36,
   "id": "81c44480-7e5a-42d5-8072-7f30c4c73bee",
   "metadata": {},
   "outputs": [
    {
     "name": "stdout",
     "output_type": "stream",
     "text": [
      "My trained model prediction:\n",
      "شكرا لاتصالكم بمفروشات الرقيب معاك خالد كيف أقدر أخدمك؟ ألو هلا وغلا كيف أقدر أساعدك اليوم؟ لو سمحت أقدر أكنت أنا دحين اشتريت حاجات و أقدر أرجعها ولا لأ؟تقدر تلغي الطلب خلال سبعة أيام من تاريخ الشراء وتسترجع المبلغ كامل، أما إذا استلمتها تقدر تستبدلها خلال أربعطعش يوم من تاريخ الشراء بشرط تكون غير مستخدمة وبحالتها الأصلية، إذا تحتاج مساعدة إضافية خبرني طيب آآ أنا لسه ما استلمتها يعني في آآ كنبة اشتريتها أبى أبدلها في كومودينات ينفع ولا لأ؟إذا لسه ما استلمت الكنبة تقدر تلغي الطلب وتسترجع المبلغ كامل أو تستبدلها بالكوميدينات إللي تبيها تواصل مع خدمة العملاء عشان يرتبون لك العملية تحتاج رقم التواصل إي والله يسعدك يا ريت الله يسعدك تفضل الرقم تسعة إثنين صفر صفر صفر إثنين خمسة أربعة صفرالفريق هناك راح يساعدك في ترتيب عملية التبديل أي خدمة ثانية طب أنا الحين متصلة على نفس هذا الرقم اللي ديتني هو صحيح هذا هو نفس الرقم اللي تتواصلين عليه حاليا إذا عندك أي استفسار أو تحتاجين مساعدة إضافية أنا هنا لخدمتك تقدر تحولني خدمة العملاء عشان أتكلم معاهمأعتذر منك ما أقدر أحول المكالمة مباشرة لكن تواصلي معهم بنفس الرقم في أوقات العمل وإن شاء الله راح يساعدونك بكل اللي تحتاجينه إذا في أي شيء ثاني أقدر متى أوقات العمل لو سمحت أوقات العمل لقسم خدمة العملاء من السبت إلى الخميس من الساعة تسعة صباحا إلى الساعة الحادية عشر مساء ويوم الجمعة من الساعة أربعةوتتعصرا إلى\n"
     ]
    }
   ],
   "source": [
    "print(\"My trained model prediction:\")\n",
    "print(my_transcription[0])"
   ]
  },
  {
   "cell_type": "code",
   "execution_count": 37,
   "id": "297bce5e-d7d0-4d51-90b4-761929da04f4",
   "metadata": {},
   "outputs": [],
   "source": [
    "import evaluate\n",
    "\n",
    "metric = evaluate.load(\"wer\")"
   ]
  },
  {
   "cell_type": "code",
   "execution_count": 44,
   "id": "1508c938-9ceb-400a-be02-3170085d6154",
   "metadata": {},
   "outputs": [],
   "source": [
    "google_transcribe = \"\"\"شكرا لاتصالكم بمفروشات الرْɠɑيب. معاك خالد، كيف أقدر أخّدِمك؟ الو.هلا وغلا! كيف أقدر أساعدك اليوم؟ لو سمحت اقدر اكنت انا دحين اشتريت حاجات واقدر ارجعها ولا لا؟ إذا ما استلمت الحاجات، تقدر تلغي الطلب خلال سبعة أيام من تاريخ الشراء وتسترجع المبلغ كامل. أما إذا استلمتها، تقدر تستبدلها خلال أربعطعش يوم من تاريخ الشراء بشرط تكون غير مستخدمة وبحالتها الأصلية. إذا تحتاج مساعدة إضافية، خبرني! طيب انا لسه ما استلمتها يعني في كنبه اشتريتها او ابدلها في كوميدينات ينفع ولا لا؟ إذا لسه ما استلمت الكنبة، تقدر تلغي الطلب وتسترجع المبلغ كامل، أو تستبدلها بالكوميدينات اللي تبيها. تواصل مع خدمة العملاء عشان يرتبون لك العملية. تحتاج رقم التواصل؟ اي والله يسعدك. الله يسعدك! تفضل الرقم: تسعة.. اثنين، صفر.. صفر، صفر، اثنين، خمسة، أربعة، صفر. الفريق هناك راح يساعدك في ترتيب عملية التبديل. أي خدمة ثانية؟ طب انا الحين متصله على نفس هذا الرقم اللي اديتني هون. صحيح، هذا هو نفس الرقم اللي تتواصلين عليه حالياً. إذا عندك أي استفسار أو تحتاجين مساعدة إضافية، أنا هنا لخدمتك! تقدر تحولني خدمه العملاء عشان اتكلم معاهم. أعتذر منك، ما أقدر أحول المكالمة مباشرة. لكن تواصلي معهم بنفس الرقم في أوقات العمل، وإن شاء الله راح يساعدونك بكل اللي تحتاجينه. إذا في أي... متى؟ متى اوقات العمل لو سمحت؟\"\"\""
   ]
  },
  {
   "cell_type": "code",
   "execution_count": 46,
   "id": "cde2df48-6758-459f-871c-4930ac953efd",
   "metadata": {},
   "outputs": [
    {
     "name": "stdout",
     "output_type": "stream",
     "text": [
      "My trained model WER (Word error rate):\n",
      "4.25531914893617\n",
      "Deepgram model WER (Word error rate):\n",
      "42.97872340425532\n"
     ]
    }
   ],
   "source": [
    "print(\"My trained model WER (Word error rate):\")\n",
    "print(100 * metric.compute(predictions=my_transcription, references=[ground_truth]))\n",
    "print(\"Deepgram model WER (Word error rate):\")\n",
    "print(100 * metric.compute(predictions=[google_transcribe], references=[ground_truth]))"
   ]
  },
  {
   "cell_type": "code",
   "execution_count": null,
   "id": "1a1ef929-2c98-4389-9c16-35765de221bf",
   "metadata": {},
   "outputs": [],
   "source": []
  }
 ],
 "metadata": {
  "kernelspec": {
   "display_name": "Python 3 (ipykernel)",
   "language": "python",
   "name": "python3"
  },
  "language_info": {
   "codemirror_mode": {
    "name": "ipython",
    "version": 3
   },
   "file_extension": ".py",
   "mimetype": "text/x-python",
   "name": "python",
   "nbconvert_exporter": "python",
   "pygments_lexer": "ipython3",
   "version": "3.10.12"
  }
 },
 "nbformat": 4,
 "nbformat_minor": 5
}
